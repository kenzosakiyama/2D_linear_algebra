{
 "metadata": {
  "language_info": {
   "codemirror_mode": {
    "name": "ipython",
    "version": 3
   },
   "file_extension": ".py",
   "mimetype": "text/x-python",
   "name": "python",
   "nbconvert_exporter": "python",
   "pygments_lexer": "ipython3",
   "version": "3.7.5-final"
  },
  "orig_nbformat": 2,
  "kernelspec": {
   "name": "python37664bitcontroleconda31acbb975cc9496e915d0b5c285bae67",
   "display_name": "Python 3.7.6 64-bit ('controle': conda)"
  }
 },
 "nbformat": 4,
 "nbformat_minor": 2,
 "cells": [
  {
   "cell_type": "code",
   "execution_count": 1,
   "metadata": {},
   "outputs": [],
   "source": [
    "from random import random\n",
    "from linalg import Vec2D, Mat2D\n",
    "\n",
    "import numpy as np"
   ]
  },
  {
   "cell_type": "code",
   "execution_count": 2,
   "metadata": {},
   "outputs": [],
   "source": [
    "repetitions = 1000"
   ]
  },
  {
   "source": [
    "# Vector norm"
   ],
   "cell_type": "markdown",
   "metadata": {}
  },
  {
   "source": [
    "## Numpy"
   ],
   "cell_type": "markdown",
   "metadata": {}
  },
  {
   "cell_type": "code",
   "execution_count": 3,
   "metadata": {},
   "outputs": [
    {
     "output_type": "stream",
     "name": "stdout",
     "text": [
      "CPU times: user 13.6 ms, sys: 5.43 ms, total: 19 ms\nWall time: 20.7 ms\n"
     ]
    }
   ],
   "source": [
    "%%time\n",
    "\n",
    "for i in range(repetitions):\n",
    "\n",
    "    x, y = random(), random()\n",
    "    norm = np.linalg.norm([x, y])\n"
   ]
  },
  {
   "source": [
    "## Vec2D"
   ],
   "cell_type": "markdown",
   "metadata": {}
  },
  {
   "cell_type": "code",
   "execution_count": 4,
   "metadata": {},
   "outputs": [
    {
     "output_type": "stream",
     "name": "stdout",
     "text": [
      "CPU times: user 1.27 ms, sys: 180 µs, total: 1.45 ms\nWall time: 1.46 ms\n"
     ]
    }
   ],
   "source": [
    "%%time\n",
    "\n",
    "for _ in range(repetitions):\n",
    "\n",
    "    x, y = random(), random()\n",
    "    norm = Vec2D(x, y).norm()\n"
   ]
  },
  {
   "cell_type": "code",
   "execution_count": null,
   "metadata": {},
   "outputs": [],
   "source": []
  }
 ]
}